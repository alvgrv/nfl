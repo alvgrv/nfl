{
 "cells": [
  {
   "cell_type": "code",
   "execution_count": 5,
   "outputs": [],
   "source": [
    "from bs4 import BeautifulSoup\n",
    "import requests\n",
    "import re\n",
    "import pandas as pd\n",
    "import os\n",
    "os.environ['SCRAPE_TARGET'] = \"https://www.pro-football-reference.com\"\n",
    "req = requests.get(f\"{os.environ['SCRAPE_TARGET']}/years\")\n",
    "soup = BeautifulSoup(req.text, \"lxml\")\n",
    "years_div = soup.find(\"table\", id=\"years\")\n",
    "years_df = pd.read_html(str(years_div))[0]\n",
    "years = years_df[\"Year\"].drop_duplicates().to_list()"
   ],
   "metadata": {
    "collapsed": false
   }
  },
  {
   "cell_type": "code",
   "execution_count": 6,
   "outputs": [
    {
     "data": {
      "text/plain": "[2022,\n 2021,\n 2020,\n 2019,\n 2018,\n 2017,\n 2016,\n 2015,\n 2014,\n 2013,\n 2012,\n 2011,\n 2010,\n 2009,\n 2008,\n 2007,\n 2006,\n 2005,\n 2004,\n 2003,\n 2002,\n 2001,\n 2000,\n 1999,\n 1998,\n 1997,\n 1996,\n 1995,\n 1994,\n 1993,\n 1992,\n 1991,\n 1990,\n 1989,\n 1988,\n 1987,\n 1986,\n 1985,\n 1984,\n 1983,\n 1982,\n 1981,\n 1980,\n 1979,\n 1978,\n 1977,\n 1976,\n 1975,\n 1974,\n 1973,\n 1972,\n 1971,\n 1970,\n 1969,\n 1968,\n 1967,\n 1966,\n 1965,\n 1964,\n 1963,\n 1962,\n 1961,\n 1960,\n 1959,\n 1958,\n 1957,\n 1956,\n 1955,\n 1954,\n 1953,\n 1952,\n 1951,\n 1950,\n 1949,\n 1948,\n 1947,\n 1946,\n 1945,\n 1944,\n 1943,\n 1942,\n 1941,\n 1940,\n 1939,\n 1938,\n 1937,\n 1936,\n 1935,\n 1934,\n 1933,\n 1932,\n 1931,\n 1930,\n 1929,\n 1928,\n 1927,\n 1926,\n 1925,\n 1924,\n 1923,\n 1922,\n 1921,\n 1920]"
     },
     "execution_count": 6,
     "metadata": {},
     "output_type": "execute_result"
    }
   ],
   "source": [
    "years"
   ],
   "metadata": {
    "collapsed": false
   }
  }
 ],
 "metadata": {
  "kernelspec": {
   "display_name": "Python 3",
   "language": "python",
   "name": "python3"
  },
  "language_info": {
   "codemirror_mode": {
    "name": "ipython",
    "version": 2
   },
   "file_extension": ".py",
   "mimetype": "text/x-python",
   "name": "python",
   "nbconvert_exporter": "python",
   "pygments_lexer": "ipython2",
   "version": "2.7.6"
  }
 },
 "nbformat": 4,
 "nbformat_minor": 0
}
